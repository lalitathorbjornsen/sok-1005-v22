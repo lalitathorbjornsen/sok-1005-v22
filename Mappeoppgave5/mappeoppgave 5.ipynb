{
 "cells": [
  {
   "cell_type": "markdown",
   "id": "1997f1d7-31e0-4574-a666-c9f42967be8c",
   "metadata": {},
   "source": [
    "# Mappeoppgave 5a)"
   ]
  },
  {
   "cell_type": "code",
   "execution_count": null,
   "id": "0633d516-a276-4d81-afaa-23ec52f33c76",
   "metadata": {
    "tags": []
   },
   "outputs": [
    {
     "ename": "",
     "evalue": "",
     "output_type": "error",
     "traceback": [
      "\u001b[1;31mRunning cells with 'Python 3.10.2 64-bit' requires ipykernel package.\n",
      "Run the following command to install 'ipykernel' into the Python environment. \n",
      "Command: '/usr/local/bin/python3 -m pip install ipykernel -U --user --force-reinstall'"
     ]
    }
   ],
   "source": [
    "# laste ned nødvendige pakker\n",
    "from bs4 import BeautifulSoup\n",
    "import requests\n",
    "\n",
    "# funksjom som leser av html\n",
    "def fetch_html_tables(url):\n",
    "    \"Returns a list of tables in the html of url\"\n",
    "    page = requests.get(url)\n",
    "    bs=BeautifulSoup(page.content)\n",
    "    tables=bs.find_all('table')\n",
    "    return tables\n",
    "\n",
    "#data om ventetider\n",
    "tables=fetch_html_tables('https://www.helsedirektoratet.no/nyheter/ventetider-og-aktivitet-i-spesialisthelsetjenesten-2021')\n",
    "table_html=tables[0]\n",
    "\n",
    "#printer toppen av tabellen\n",
    "print(str(table_html)[:1000])"
   ]
  },
  {
   "cell_type": "code",
   "execution_count": null,
   "id": "dbe35964-21af-4ac8-9635-6c09ab5ff5a1",
   "metadata": {},
   "outputs": [
    {
     "name": "stdout",
     "output_type": "stream",
     "text": [
      "[['Sektor', 'Antall dager ventetid\\t\\t\\t2020', 'Antall dager ventetid\\t\\t\\t2021'], ['Somatikk', '65', '63'], ['Psykisk helsevern for voksne', '44', '46'], ['Psykisk helsevern for barn og unge', '44', '50'], ['Tverrfaglig spesialisert rusbehandling (TSB)', '32', '33'], ['Alle sektorer', '63', '61']]\n"
     ]
    }
   ],
   "source": [
    "def html_to_table(html):\n",
    "    \"Returns the table defined in html as a list\"\n",
    "    #defining the table:\n",
    "    table=[]\n",
    "    #iterating over all rows\n",
    "    for row in html.find_all('tr'):\n",
    "        r=[]\n",
    "        #finding all cells in each row:\n",
    "        cells=row.find_all('td')\n",
    "        \n",
    "        #if no cells are found, look for headings\n",
    "        if len(cells)==0:\n",
    "            cells=row.find_all('th')\n",
    "            \n",
    "        #iterate over cells:\n",
    "        for cell in cells:\n",
    "            cell=format(cell)\n",
    "            r.append(cell)\n",
    "        \n",
    "        #append the row to t:\n",
    "        table.append(r)\n",
    "    return table\n",
    "\n",
    "def format(cell):\n",
    "    \"Returns a string after converting bs4 object cell to clean text\"\n",
    "    if cell.content is None:\n",
    "        s=cell.text\n",
    "    elif len(cell.content)==6:\n",
    "        return ''\n",
    "    else:\n",
    "        s=' '.join([str(c) for c in cell.content])\n",
    "            \n",
    "    return s\n",
    "\n",
    "table=html_to_table(table_html)\n",
    "\n",
    "#printing top\n",
    "print(str(table)[:1000])\n"
   ]
  },
  {
   "cell_type": "code",
   "execution_count": null,
   "id": "048e4331-7a76-4c21-90a2-3f18cca95137",
   "metadata": {},
   "outputs": [
    {
     "data": {
      "text/plain": [
       "'Somatikk;65;63'"
      ]
     },
     "execution_count": 5,
     "metadata": {},
     "output_type": "execute_result"
    }
   ],
   "source": [
    "';'.join(table[1])"
   ]
  },
  {
   "cell_type": "code",
   "execution_count": null,
   "id": "f16dfd37-e9cc-4c9f-a891-a935867cab5d",
   "metadata": {},
   "outputs": [],
   "source": [
    "# lage tabell som filname \n",
    "\n",
    "def save_data(file_name,table):\n",
    "    \"Saves table to file_name\"\n",
    "    f=open(file_name,'w')\n",
    "    for row in table:\n",
    "        f.write(';'.join(row)+'\\n')\n",
    "    f.close()\n",
    "    \n",
    "save_data('ventetid.csv',table)"
   ]
  },
  {
   "cell_type": "code",
   "execution_count": null,
   "id": "e730efe6-f8a9-4dca-b49d-608226dc6c8c",
   "metadata": {},
   "outputs": [
    {
     "name": "stdout",
     "output_type": "stream",
     "text": [
      "                                         Sektor  Antall dager ventetid 2020  \\\n",
      "0                                      Somatikk                          65   \n",
      "1                  Psykisk helsevern for voksne                          44   \n",
      "2            Psykisk helsevern for barn og unge                          44   \n",
      "3  Tverrfaglig spesialisert rusbehandling (TSB)                          32   \n",
      "\n",
      "   Antall dager ventetid\\t\\t\\t2021  \n",
      "0                               63  \n",
      "1                               46  \n",
      "2                               50  \n",
      "3                               33  \n"
     ]
    }
   ],
   "source": [
    "import pandas as pd\n",
    "v =pd.read_csv('ventetid.csv', delimiter=';')\n",
    "v =v.rename(columns={'Antall dager ventetid\\t\\t\\t2020': 'Antall dager ventetid 2020'})\n",
    "v = v[:-1] # Fjerne den raden med alle sektorer\n",
    "print(v)"
   ]
  },
  {
   "cell_type": "code",
   "execution_count": null,
   "id": "6a4111fd-61aa-4977-8da2-422183c22c54",
   "metadata": {},
   "outputs": [
    {
     "name": "stdout",
     "output_type": "stream",
     "text": [
      "<table> <thead> <tr> <th scope=\"col\">Sektor</th> <th scope=\"col\">Andel fristbrudd (prosent)<br/>\t\t\t2020</th> <th scope=\"col\">Andel fristbrudd (prosent)<br/>\t\t\t2021</th> </tr> </thead> <tbody> <tr> <td>Somatikk</td> <td>7,7</td> <td>5,1</td> </tr> <tr> <td>Psykisk helsevern for voksne</td> <td>3,9</td> <td>4,1</td> </tr> <tr> <td>Psykisk helsevern for barn og unge</td> <td>2,6</td> <td>5,1</td> </tr> <tr> <td>Tverrfaglig spesialisert rusbehandling (TSB)</td> <td>2,5</td> <td>3,1</td> </tr> <tr> <td>Alle sektorer</td> <td>7,3</td> <td>3,1</td> </tr> </tbody></table>\n"
     ]
    }
   ],
   "source": [
    "from bs4 import BeautifulSoup\n",
    "import requests\n",
    "\n",
    "# funksjom som leser av html\n",
    "def fetch_html_tables(url):\n",
    "    \"Returns a list of tables in the html of url\"\n",
    "    page = requests.get(url)\n",
    "    bs=BeautifulSoup(page.content)\n",
    "    tables=bs.find_all('table')\n",
    "    return tables\n",
    "\n",
    "#Data om fristbrudd\n",
    "tables=fetch_html_tables('https://www.helsedirektoratet.no/nyheter/ventetider-og-aktivitet-i-spesialisthelsetjenesten-2021')\n",
    "table_html=tables[1]\n",
    "\n",
    "#printer toppen av tabellen\n",
    "print(str(table_html)[:1000])"
   ]
  },
  {
   "cell_type": "code",
   "execution_count": null,
   "id": "79c786ef-9eaf-4a68-899b-ac63dd114698",
   "metadata": {},
   "outputs": [
    {
     "name": "stdout",
     "output_type": "stream",
     "text": [
      "[['Sektor', 'Andel fristbrudd (prosent)\\t\\t\\t2020', 'Andel fristbrudd (prosent)\\t\\t\\t2021'], ['Somatikk', '7.7', '5.1'], ['Psykisk helsevern for voksne', '3.9', '4.1'], ['Psykisk helsevern for barn og unge', '2.6', '5.1'], ['Tverrfaglig spesialisert rusbehandling (TSB)', '2.5', '3.1'], ['Alle sektorer', '7.3', '3.1']]\n"
     ]
    }
   ],
   "source": [
    "def html_to_table(html):\n",
    "    \"Returns the table defined in html as a list\"\n",
    "    #defining the table:\n",
    "    table=[]\n",
    "    #iterating over all rows\n",
    "    for row in html.find_all('tr'):\n",
    "        r=[]\n",
    "        #finding all cells in each row:\n",
    "        cells=row.find_all('td')\n",
    "        \n",
    "        #if no cells are found, look for headings\n",
    "        if len(cells)==0:\n",
    "            cells=row.find_all('th')\n",
    "            \n",
    "        #iterate over cells:\n",
    "        for cell in cells:\n",
    "            cell=format(cell)\n",
    "            r.append(cell)\n",
    "        \n",
    "        #append the row to t:\n",
    "        table.append(r)\n",
    "    return table\n",
    "\n",
    "def format(cell):\n",
    "    \"Returns a string after converting bs4 object cell to clean text\"\n",
    "    if cell.content is None:\n",
    "        s=cell.text\n",
    "    elif len(cell.content)==6:\n",
    "        return ''\n",
    "    else:\n",
    "        s=' '.join([str(c) for c in cell.content])\n",
    "            \n",
    "    #here you can add additional characters/strings you want to \n",
    "    #remove, change punctuations or format the string in other\n",
    "    #ways:\n",
    "    s=s.replace(',','.') # gjøre alle kommaene til punktum\n",
    "    \n",
    "    return s\n",
    "\n",
    "table=html_to_table(table_html)\n",
    "\n",
    "#printing top\n",
    "print(str(table)[:1000])"
   ]
  },
  {
   "cell_type": "code",
   "execution_count": null,
   "id": "c6fc467c-af44-48d6-b1ec-bbc0f979e991",
   "metadata": {},
   "outputs": [],
   "source": [
    "# lage tabell som filname \n",
    "\n",
    "def save_data(file_name,table):\n",
    "    \"Saves table to file_name\"\n",
    "    f=open(file_name,'w')\n",
    "    for row in table:\n",
    "        f.write(';'.join(row)+'\\n')\n",
    "    f.close()\n",
    "    \n",
    "save_data('fristbrudd.csv',table)"
   ]
  },
  {
   "cell_type": "code",
   "execution_count": null,
   "id": "49dfc106-137a-474a-b46e-2134dd76d9ce",
   "metadata": {},
   "outputs": [
    {
     "name": "stdout",
     "output_type": "stream",
     "text": [
      "                                         Sektor  Andel fristbrudd 2020  \\\n",
      "0                                      Somatikk                    7.7   \n",
      "1                  Psykisk helsevern for voksne                    3.9   \n",
      "2            Psykisk helsevern for barn og unge                    2.6   \n",
      "3  Tverrfaglig spesialisert rusbehandling (TSB)                    2.5   \n",
      "\n",
      "   Andel fristbrudd (prosent)\\t\\t\\t2021  \n",
      "0                                   5.1  \n",
      "1                                   4.1  \n",
      "2                                   5.1  \n",
      "3                                   3.1  \n"
     ]
    }
   ],
   "source": [
    "import pandas as pd\n",
    "f =pd.read_csv('fristbrudd.csv', delimiter=';')\n",
    "f =f.rename(columns={'Andel fristbrudd (prosent)\\t\\t\\t2020': 'Andel fristbrudd 2020'})\n",
    "f =f[:-1]\n",
    "print(f)\n"
   ]
  },
  {
   "cell_type": "code",
   "execution_count": null,
   "id": "e5385f70-1c9f-4fa6-ba71-5336bbc7df8f",
   "metadata": {},
   "outputs": [
    {
     "data": {
      "text/html": [
       "<div>\n",
       "<style scoped>\n",
       "    .dataframe tbody tr th:only-of-type {\n",
       "        vertical-align: middle;\n",
       "    }\n",
       "\n",
       "    .dataframe tbody tr th {\n",
       "        vertical-align: top;\n",
       "    }\n",
       "\n",
       "    .dataframe thead th {\n",
       "        text-align: right;\n",
       "    }\n",
       "</style>\n",
       "<table border=\"1\" class=\"dataframe\">\n",
       "  <thead>\n",
       "    <tr style=\"text-align: right;\">\n",
       "      <th></th>\n",
       "      <th>Andel fristbrudd 2020</th>\n",
       "    </tr>\n",
       "  </thead>\n",
       "  <tbody>\n",
       "    <tr>\n",
       "      <th>0</th>\n",
       "      <td>7.7</td>\n",
       "    </tr>\n",
       "    <tr>\n",
       "      <th>1</th>\n",
       "      <td>3.9</td>\n",
       "    </tr>\n",
       "    <tr>\n",
       "      <th>2</th>\n",
       "      <td>2.6</td>\n",
       "    </tr>\n",
       "    <tr>\n",
       "      <th>3</th>\n",
       "      <td>2.5</td>\n",
       "    </tr>\n",
       "  </tbody>\n",
       "</table>\n",
       "</div>"
      ],
      "text/plain": [
       "   Andel fristbrudd 2020\n",
       "0                    7.7\n",
       "1                    3.9\n",
       "2                    2.6\n",
       "3                    2.5"
      ]
     },
     "execution_count": 42,
     "metadata": {},
     "output_type": "execute_result"
    }
   ],
   "source": [
    "y=f['Andel fristbrudd 2020']\n",
    "pd.DataFrame(y)\n"
   ]
  },
  {
   "cell_type": "code",
   "execution_count": null,
   "id": "63f887ce-f6d3-488f-9259-2e5a592c782e",
   "metadata": {},
   "outputs": [
    {
     "data": {
      "text/plain": [
       "<matplotlib.legend.Legend at 0x7f2fd936cd90>"
      ]
     },
     "execution_count": 55,
     "metadata": {},
     "output_type": "execute_result"
    },
    {
     "data": {
      "image/png": "[encoded data removed]",
      "text/plain": [
       "<Figure size 432x288 with 1 Axes>"
      ]
     },
     "metadata": {
      "needs_background": "light"
     },
     "output_type": "display_data"
    }
   ],
   "source": [
    "import numpy as np\n",
    "from matplotlib import pyplot as plt\n",
    "\n",
    "fig,ax=plt.subplots()\n",
    "\n",
    "font = {'family': 'serif',\n",
    "        'color':  'black',\n",
    "        'weight': 'normal',\n",
    "        'size': 16,\n",
    "        }\n",
    "\n",
    "#adding axis lables:\n",
    "ax.set_ylabel('Antall dager ventetid 2020',  fontdict=font)\n",
    "ax.set_xlabel('Andel fristbrudd 2020 i prosent',  fontdict=font)\n",
    "ax.set_title(\"Ventetid i dager vs fristbrudd i prosent\",  fontdict=font)\n",
    "\n",
    "#plotting the function:\n",
    "ax.scatter(f['Andel fristbrudd 2020'],v['Antall dager ventetid 2020'],  label='Observasjoner')\n",
    "ax.legend(loc='lower right',frameon=False)\n",
    "\n",
    "# Kommentar fra meg:\n",
    "# Jeg valgte å hente tall fra Helsedirektoratet for å sjekke om det er en korrelasjon mellom å ha lang ventetid\n",
    "# og fristbrudd. Helsedirektoratet har tabell på 4 sektorer og det er de jeg har brukt. Jeg prøvde å finne andre \n",
    "# nettsider med tabeller, men de var vanskelige å lese som tabell utfra sidekilden. \n",
    "# Utfra de tallene jeg har fått, så viser det at ved økning av ventetid i dager, så øker andel fristbrudd av sykehus\n",
    "# og behandlingsinstitusjonen. "
   ]
  },
  {
   "cell_type": "code",
   "execution_count": null,
   "id": "f9096444-7e55-419d-aef5-24766d8e2aca",
   "metadata": {},
   "outputs": [
    {
     "name": "stdout",
     "output_type": "stream",
     "text": [
      "                                  OLS Regression Results                                  \n",
      "==========================================================================================\n",
      "Dep. Variable:     Andel fristbrudd 2020   R-squared (uncentered):                   0.941\n",
      "Model:                               OLS   Adj. R-squared (uncentered):              0.921\n",
      "Method:                    Least Squares   F-statistic:                              47.56\n",
      "Date:                   Wed, 27 Apr 2022   Prob (F-statistic):                     0.00625\n",
      "Time:                           10:47:17   Log-Likelihood:                         -6.1974\n",
      "No. Observations:                      4   AIC:                                      14.39\n",
      "Df Residuals:                          3   BIC:                                      13.78\n",
      "Df Model:                              1                                                  \n",
      "Covariance Type:               nonrobust                                                  \n",
      "==============================================================================================\n",
      "                                 coef    std err          t      P>|t|      [0.025      0.975]\n",
      "----------------------------------------------------------------------------------------------\n",
      "Antall dager ventetid 2020     0.0950      0.014      6.897      0.006       0.051       0.139\n",
      "==============================================================================\n",
      "Omnibus:                          nan   Durbin-Watson:                   1.161\n",
      "Prob(Omnibus):                    nan   Jarque-Bera (JB):                0.318\n",
      "Skew:                           0.491   Prob(JB):                        0.853\n",
      "Kurtosis:                       2.030   Cond. No.                         1.00\n",
      "==============================================================================\n",
      "\n",
      "Notes:\n",
      "[1] R² is computed without centering (uncentered) since the model does not contain a constant.\n",
      "[2] Standard Errors assume that the covariance matrix of the errors is correctly specified.\n"
     ]
    },
    {
     "name": "stderr",
     "output_type": "stream",
     "text": [
      "/usr/local/Miniconda3-py39_4.10.3-Linux-x86_64/lib/python3.9/site-packages/statsmodels/stats/stattools.py:74: ValueWarning: omni_normtest is not valid with less than 8 observations; 4 samples were given.\n",
      "  warn(\"omni_normtest is not valid with less than 8 observations; %i \"\n"
     ]
    }
   ],
   "source": [
    "from statsmodels.regression.linear_model import OLS\n",
    "\n",
    "res=OLS(f['Andel fristbrudd 2020'].astype(float), v['Antall dager ventetid 2020'].astype(float)).fit()\n",
    "\n",
    "print(res.summary())"
   ]
  },
  {
   "cell_type": "code",
   "execution_count": null,
   "id": "48b59569-76d3-47fd-ae10-02bbb5a9cfa5",
   "metadata": {},
   "outputs": [],
   "source": [
    "# Kommentar\n",
    "# Den avhengige variabelen er andel fristbrudd i 2020 i prosent. Den viktige delen av regresjon resultatene er \n",
    "# R-sqaured som sier noe om hvor mye av den uavhengige variabelen(antall dager ventetid) som forklares av endringer \n",
    "# i våre avhengige variabler. Med andre ord, hvor mye øker andel fristbrudd hvis antall ventetid øker med 1. At den\n",
    "# er positv sier at det er en korrelasjon. "
   ]
  },
  {
   "cell_type": "code",
   "execution_count": null,
   "id": "66a585e8-732f-4a1a-97a3-68738af72a3d",
   "metadata": {
    "tags": []
   },
   "outputs": [
    {
     "data": {
      "text/plain": [
       "[(0.0, 70.0)]"
      ]
     },
     "execution_count": 57,
     "metadata": {},
     "output_type": "execute_result"
    },
    {
     "data": {
      "image/png": "[encoded data removed]",
      "text/plain": [
       "<Figure size 432x288 with 1 Axes>"
      ]
     },
     "metadata": {
      "needs_background": "light"
     },
     "output_type": "display_data"
    }
   ],
   "source": [
    "# Regression            \n",
    "import seaborn as sns \n",
    "\n",
    "sns.regplot(x= f['Andel fristbrudd 2020'], y= v['Antall dager ventetid 2020'])\n",
    "#Prøvde å endre y-aksen \n",
    "ax.set(ylim=(0, 70))"
   ]
  },
  {
   "cell_type": "code",
   "execution_count": null,
   "id": "cbb3aa8d-171c-4a14-af5e-d7c14d775eaf",
   "metadata": {},
   "outputs": [],
   "source": []
  }
 ],
 "metadata": {
  "kernelspec": {
   "display_name": "Python 3 (ipykernel)",
   "language": "python",
   "name": "python3"
  },
  "language_info": {
   "codemirror_mode": {
    "name": "ipython",
    "version": 3
   },
   "file_extension": ".py",
   "mimetype": "text/x-python",
   "name": "python",
   "nbconvert_exporter": "python",
   "pygments_lexer": "ipython3",
   "version": "3.10.2"
  }
 },
 "nbformat": 4,
 "nbformat_minor": 5
}
